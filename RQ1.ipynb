{
"metadata": {
  "kernelspec": {
   "display_name": "Python 3",
   "language": "python",
   "name": "python3"
  },
  "language_info": {
   "codemirror_mode": {
    "name": "ipython",
    "version": 3
   },
   "file_extension": ".py",
   "mimetype": "text/x-python",
   "name": "python",
   "nbconvert_exporter": "python",
   "pygments_lexer": "ipython3",
   "version": "3.8.5"
  }
 },
 "nbformat": 4,
 "nbformat_minor": 4,
 "cells": [
  {
   "cell_type": "code",
   "execution_count": 1,
   "metadata": {},
   "outputs": [],
   "source": [
    "import pandas as pd\n",
    "import numpy as np\n",
    "import copy\n",
    "import matplotlib.pyplot as plt\n",
    "import datetime"
   ]
  },
  {
   "cell_type": "code",
   "execution_count": 2,
   "metadata": {},
   "outputs": [],
   "source": [
    "DATA_FOLDER = 'data/'\n",
    "dtypes_az = {'date': 'str', 'county_name': 'str', 'subject_race': 'category', 'subject_sex': 'category', 'search_conducted': 'boolean', 'contraband_found':'boolean'}\n",
    "cols_az = [i for i in dtypes_az]"
   ]
  },
  {
   "cell_type": "code",
   "execution_count": 3,
   "metadata": {},
   "outputs": [],
   "source": [
    "az = pd.read_csv(DATA_FOLDER + 'yg821jf8611_az_statewide_2020_04_01.csv.zip', usecols=cols_az, dtype=dtypes_az)\n",
    "fl_sw = pd.read_csv(DATA_FOLDER + 'yg821jf8611_fl_statewide_2020_04_01.csv.zip', usecols=cols_fl, dtype=dtypes_fl)"
   ]
  },
  {
   "cell_type": "code",
   "execution_count": 4,
   "metadata": {},
   "outputs": [],
   "source": [
    "az[\"state\"] = \"Arizona\""
   ]
  },
  {
   "cell_type": "code",
   "execution_count": 5,
   "metadata": {},
   "outputs": [
    {
     "data": {
      "text/html": [
       "<div>\n",
       "<style scoped>\n",
       "    .dataframe tbody tr th:only-of-type {\n",
       "        vertical-align: middle;\n",
       "    }\n",
       "\n",
       "    .dataframe tbody tr th {\n",
       "        vertical-align: top;\n",
       "    }\n",
       "\n",
       "    .dataframe thead th {\n",
       "        text-align: right;\n",
       "    }\n",
       "</style>\n",
       "<table border=\"1\" class=\"dataframe\">\n",
       "  <thead>\n",
       "    <tr style=\"text-align: right;\">\n",
       "      <th></th>\n",
       "      <th>date</th>\n",
       "      <th>county_name</th>\n",
       "      <th>subject_race</th>\n",
       "      <th>subject_sex</th>\n",
       "      <th>contraband_found</th>\n",
       "      <th>search_conducted</th>\n",
       "      <th>state</th>\n",
       "    </tr>\n",
       "  </thead>\n",
       "  <tbody>\n",
       "    <tr>\n",
       "      <th>2677236</th>\n",
       "      <td>2016-01-18</td>\n",
       "      <td>Maricopa County</td>\n",
       "      <td>white</td>\n",
       "      <td>male</td>\n",
       "      <td>&lt;NA&gt;</td>\n",
       "      <td>False</td>\n",
       "      <td>Arizona</td>\n",
       "    </tr>\n",
       "    <tr>\n",
       "      <th>2906427</th>\n",
       "      <td>2017-06-23</td>\n",
       "      <td>La Paz County</td>\n",
       "      <td>white</td>\n",
       "      <td>male</td>\n",
       "      <td>&lt;NA&gt;</td>\n",
       "      <td>False</td>\n",
       "      <td>Arizona</td>\n",
       "    </tr>\n",
       "    <tr>\n",
       "      <th>588443</th>\n",
       "      <td>2012-02-20</td>\n",
       "      <td>NaN</td>\n",
       "      <td>white</td>\n",
       "      <td>male</td>\n",
       "      <td>&lt;NA&gt;</td>\n",
       "      <td>False</td>\n",
       "      <td>Arizona</td>\n",
       "    </tr>\n",
       "    <tr>\n",
       "      <th>2766906</th>\n",
       "      <td>2016-07-01</td>\n",
       "      <td>Maricopa County</td>\n",
       "      <td>white</td>\n",
       "      <td>female</td>\n",
       "      <td>True</td>\n",
       "      <td>True</td>\n",
       "      <td>Arizona</td>\n",
       "    </tr>\n",
       "    <tr>\n",
       "      <th>1785993</th>\n",
       "      <td>2013-11-17</td>\n",
       "      <td>Coconino County</td>\n",
       "      <td>white</td>\n",
       "      <td>male</td>\n",
       "      <td>&lt;NA&gt;</td>\n",
       "      <td>False</td>\n",
       "      <td>Arizona</td>\n",
       "    </tr>\n",
       "  </tbody>\n",
       "</table>\n",
       "</div>"
      ],
      "text/plain": [
       "               date      county_name subject_race subject_sex  \\\n",
       "2677236  2016-01-18  Maricopa County        white        male   \n",
       "2906427  2017-06-23    La Paz County        white        male   \n",
       "588443   2012-02-20              NaN        white        male   \n",
       "2766906  2016-07-01  Maricopa County        white      female   \n",
       "1785993  2013-11-17  Coconino County        white        male   \n",
       "\n",
       "         contraband_found  search_conducted    state  \n",
       "2677236              <NA>             False  Arizona  \n",
       "2906427              <NA>             False  Arizona  \n",
       "588443               <NA>             False  Arizona  \n",
       "2766906              True              True  Arizona  \n",
       "1785993              <NA>             False  Arizona  "
      ]
     },
     "execution_count": 5,
     "metadata": {},
     "output_type": "execute_result"
    }
   ],
   "source": [
    "all_data = az.copy()\n",
    "all_data.sample(5)"
   ]
  },
  {
   "cell_type": "code",
   "execution_count": 6,
   "metadata": {},
   "outputs": [],
   "source": [
    "# Here, we remove all the empty entries\n",
    "all_data.dropna(subset=[\"county_name\"], inplace=True)"
   ]
  },
  {
   "cell_type": "code",
   "execution_count": 7,
   "metadata": {},
   "outputs": [
    {
     "data": {
      "text/plain": [
       "3124582"
      ]
     },
     "execution_count": 7,
     "metadata": {},
     "output_type": "execute_result"
    }
   ],
   "source": [
    "len(all_data)"
   ]
  },
  {
   "cell_type": "code",
   "execution_count": 8,
   "metadata": {},
   "outputs": [],
   "source": [
    "# Here, we get a list of locations\n",
    "locations = all_data[\"county_name\"].unique().tolist()"
   ]
  },
  {
   "cell_type": "code",
   "execution_count": 9,
   "metadata": {},
   "outputs": [
    {
     "data": {
      "text/plain": [
       "15"
      ]
     },
     "execution_count": 9,
     "metadata": {},
     "output_type": "execute_result"
    }
   ],
   "source": [
    "len(locations)"
   ]
  },
  {
   "cell_type": "code",
   "execution_count": 10,
   "metadata": {},
   "outputs": [],
   "source": [
    "all_data[\"search_rate\"]=\"\""
   ]
  },
  {
   "cell_type": "code",
   "execution_count": 11,
   "metadata": {},
   "outputs": [
    {
     "data": {
      "text/html": [
       "<div>\n",
       "<style scoped>\n",
       "    .dataframe tbody tr th:only-of-type {\n",
       "        vertical-align: middle;\n",
       "    }\n",
       "\n",
       "    .dataframe tbody tr th {\n",
       "        vertical-align: top;\n",
       "    }\n",
       "\n",
       "    .dataframe thead th {\n",
       "        text-align: right;\n",
       "    }\n",
       "</style>\n",
       "<table border=\"1\" class=\"dataframe\">\n",
       "  <thead>\n",
       "    <tr style=\"text-align: right;\">\n",
       "      <th></th>\n",
       "      <th>date</th>\n",
       "      <th>county_name</th>\n",
       "      <th>subject_race</th>\n",
       "      <th>subject_sex</th>\n",
       "      <th>contraband_found</th>\n",
       "      <th>search_conducted</th>\n",
       "      <th>state</th>\n",
       "      <th>search_rate</th>\n",
       "    </tr>\n",
       "  </thead>\n",
       "  <tbody>\n",
       "    <tr>\n",
       "      <th>0</th>\n",
       "      <td>2009-01-06</td>\n",
       "      <td>Maricopa County</td>\n",
       "      <td>hispanic</td>\n",
       "      <td>male</td>\n",
       "      <td>&lt;NA&gt;</td>\n",
       "      <td>False</td>\n",
       "      <td>Arizona</td>\n",
       "      <td></td>\n",
       "    </tr>\n",
       "    <tr>\n",
       "      <th>1</th>\n",
       "      <td>2009-01-18</td>\n",
       "      <td>Maricopa County</td>\n",
       "      <td>white</td>\n",
       "      <td>male</td>\n",
       "      <td>&lt;NA&gt;</td>\n",
       "      <td>False</td>\n",
       "      <td>Arizona</td>\n",
       "      <td></td>\n",
       "    </tr>\n",
       "    <tr>\n",
       "      <th>2</th>\n",
       "      <td>2009-01-20</td>\n",
       "      <td>Maricopa County</td>\n",
       "      <td>hispanic</td>\n",
       "      <td>male</td>\n",
       "      <td>&lt;NA&gt;</td>\n",
       "      <td>False</td>\n",
       "      <td>Arizona</td>\n",
       "      <td></td>\n",
       "    </tr>\n",
       "    <tr>\n",
       "      <th>3</th>\n",
       "      <td>2009-01-24</td>\n",
       "      <td>Maricopa County</td>\n",
       "      <td>hispanic</td>\n",
       "      <td>female</td>\n",
       "      <td>&lt;NA&gt;</td>\n",
       "      <td>False</td>\n",
       "      <td>Arizona</td>\n",
       "      <td></td>\n",
       "    </tr>\n",
       "    <tr>\n",
       "      <th>4</th>\n",
       "      <td>2009-01-25</td>\n",
       "      <td>Maricopa County</td>\n",
       "      <td>white</td>\n",
       "      <td>female</td>\n",
       "      <td>&lt;NA&gt;</td>\n",
       "      <td>False</td>\n",
       "      <td>Arizona</td>\n",
       "      <td></td>\n",
       "    </tr>\n",
       "  </tbody>\n",
       "</table>\n",
       "</div>"
      ],
      "text/plain": [
       "         date      county_name subject_race subject_sex  contraband_found  \\\n",
       "0  2009-01-06  Maricopa County     hispanic        male              <NA>   \n",
       "1  2009-01-18  Maricopa County        white        male              <NA>   \n",
       "2  2009-01-20  Maricopa County     hispanic        male              <NA>   \n",
       "3  2009-01-24  Maricopa County     hispanic      female              <NA>   \n",
       "4  2009-01-25  Maricopa County        white      female              <NA>   \n",
       "\n",
       "   search_conducted    state search_rate  \n",
       "0             False  Arizona              \n",
       "1             False  Arizona              \n",
       "2             False  Arizona              \n",
       "3             False  Arizona              \n",
       "4             False  Arizona              "
      ]
     },
     "execution_count": 11,
     "metadata": {},
     "output_type": "execute_result"
    }
   ],
   "source": [
    "all_data.head()"
   ]
  },
  {
   "cell_type": "code",
   "execution_count": 12,
   "metadata": {},
   "outputs": [],
   "source": [
    "# To reduce the processing time, we split our dataframe into two slices\n",
    "# The first split represents the relevant data\n",
    "split_1 = all_data.loc[(all_data[\"search_conducted\"] == True)]\n",
    "split_2 = all_data.loc[(all_data[\"search_conducted\"] == False)]"
   ]
  },
  {
   "cell_type": "code",
   "execution_count": 13,
   "metadata": {},
   "outputs": [
    {
     "name": "stderr",
     "output_type": "stream",
     "text": [
      "<ipython-input-13-c7daf4a1432b>:7: SettingWithCopyWarning: \n",
      "A value is trying to be set on a copy of a slice from a DataFrame.\n",
      "Try using .loc[row_indexer,col_indexer] = value instead\n",
      "\n",
      "See the caveats in the documentation: https://pandas.pydata.org/pandas-docs/stable/user_guide/indexing.html#returning-a-view-versus-a-copy\n",
      "  split_1['search_rate'] = split_1.apply(lambda x: set_val(x['county_name'], x['search_conducted']), axis=1)\n"
     ]
    }
   ],
   "source": [
    "# We calculate the search rate based on the number of search conducted per county name\n",
    "def set_val(location, sc):\n",
    "    if sc == True:\n",
    "        return (1/len(split_1.loc[(split_1[\"county_name\"] == location) & (split_1[\"search_conducted\"] == True)]))\n",
    "    else:\n",
    "        return np.nan\n",
    "\n",
    "split_1['search_rate'] = split_1.apply(lambda x: set_val(x['county_name'], x['search_conducted']), axis=1)"
   ]
  },
  {
   "cell_type": "code",
   "execution_count": 14,
   "metadata": {},
   "outputs": [
    {
     "name": "stderr",
     "output_type": "stream",
     "text": [
      "/Users/alpha/opt/anaconda3/lib/python3.8/site-packages/pandas/core/indexing.py:670: SettingWithCopyWarning: \n",
      "A value is trying to be set on a copy of a slice from a DataFrame\n",
      "\n",
      "See the caveats in the documentation: https://pandas.pydata.org/pandas-docs/stable/user_guide/indexing.html#returning-a-view-versus-a-copy\n",
      "  iloc._setitem_with_indexer(indexer, value)\n"
     ]
    }
   ],
   "source": [
    "# For finding the search rate, we don't need data containing empty values for search conducted\n",
    "# In these entries, we replace search_rate by a null value\n",
    "split_2.loc[\"search_rate\"] = np.nan"
   ]
  },
  {
   "cell_type": "code",
   "execution_count": 29,
   "metadata": {},
   "outputs": [
    {
     "data": {
      "text/html": [
       "<div>\n",
       "<style scoped>\n",
       "    .dataframe tbody tr th:only-of-type {\n",
       "        vertical-align: middle;\n",
       "    }\n",
       "\n",
       "    .dataframe tbody tr th {\n",
       "        vertical-align: top;\n",
       "    }\n",
       "\n",
       "    .dataframe thead th {\n",
       "        text-align: right;\n",
       "    }\n",
       "</style>\n",
       "<table border=\"1\" class=\"dataframe\">\n",
       "  <thead>\n",
       "    <tr style=\"text-align: right;\">\n",
       "      <th></th>\n",
       "      <th>date</th>\n",
       "      <th>county_name</th>\n",
       "      <th>subject_race</th>\n",
       "      <th>subject_sex</th>\n",
       "      <th>contraband_found</th>\n",
       "      <th>search_conducted</th>\n",
       "      <th>state</th>\n",
       "      <th>search_rate</th>\n",
       "    </tr>\n",
       "  </thead>\n",
       "  <tbody>\n",
       "    <tr>\n",
       "      <th>14</th>\n",
       "      <td>2009-07-21</td>\n",
       "      <td>Maricopa County</td>\n",
       "      <td>white</td>\n",
       "      <td>female</td>\n",
       "      <td>False</td>\n",
       "      <td>True</td>\n",
       "      <td>Arizona</td>\n",
       "      <td>0.000013</td>\n",
       "    </tr>\n",
       "    <tr>\n",
       "      <th>27</th>\n",
       "      <td>2009-12-28</td>\n",
       "      <td>Maricopa County</td>\n",
       "      <td>hispanic</td>\n",
       "      <td>male</td>\n",
       "      <td>False</td>\n",
       "      <td>True</td>\n",
       "      <td>Arizona</td>\n",
       "      <td>0.000013</td>\n",
       "    </tr>\n",
       "    <tr>\n",
       "      <th>85</th>\n",
       "      <td>2009-12-31</td>\n",
       "      <td>Maricopa County</td>\n",
       "      <td>white</td>\n",
       "      <td>male</td>\n",
       "      <td>False</td>\n",
       "      <td>True</td>\n",
       "      <td>Arizona</td>\n",
       "      <td>0.000013</td>\n",
       "    </tr>\n",
       "    <tr>\n",
       "      <th>89</th>\n",
       "      <td>2009-12-31</td>\n",
       "      <td>Maricopa County</td>\n",
       "      <td>white</td>\n",
       "      <td>male</td>\n",
       "      <td>False</td>\n",
       "      <td>True</td>\n",
       "      <td>Arizona</td>\n",
       "      <td>0.000013</td>\n",
       "    </tr>\n",
       "    <tr>\n",
       "      <th>104</th>\n",
       "      <td>2010-01-01</td>\n",
       "      <td>Maricopa County</td>\n",
       "      <td>white</td>\n",
       "      <td>male</td>\n",
       "      <td>False</td>\n",
       "      <td>True</td>\n",
       "      <td>Arizona</td>\n",
       "      <td>0.000013</td>\n",
       "    </tr>\n",
       "    <tr>\n",
       "      <th>...</th>\n",
       "      <td>...</td>\n",
       "      <td>...</td>\n",
       "      <td>...</td>\n",
       "      <td>...</td>\n",
       "      <td>...</td>\n",
       "      <td>...</td>\n",
       "      <td>...</td>\n",
       "      <td>...</td>\n",
       "    </tr>\n",
       "    <tr>\n",
       "      <th>3497988</th>\n",
       "      <td>2017-09-16</td>\n",
       "      <td>Yavapai County</td>\n",
       "      <td>white</td>\n",
       "      <td>male</td>\n",
       "      <td>True</td>\n",
       "      <td>True</td>\n",
       "      <td>Arizona</td>\n",
       "      <td>0.000091</td>\n",
       "    </tr>\n",
       "    <tr>\n",
       "      <th>3497989</th>\n",
       "      <td>2017-09-16</td>\n",
       "      <td>Yavapai County</td>\n",
       "      <td>white</td>\n",
       "      <td>male</td>\n",
       "      <td>True</td>\n",
       "      <td>True</td>\n",
       "      <td>Arizona</td>\n",
       "      <td>0.000091</td>\n",
       "    </tr>\n",
       "    <tr>\n",
       "      <th>3497990</th>\n",
       "      <td>2017-09-16</td>\n",
       "      <td>Yavapai County</td>\n",
       "      <td>white</td>\n",
       "      <td>male</td>\n",
       "      <td>True</td>\n",
       "      <td>True</td>\n",
       "      <td>Arizona</td>\n",
       "      <td>0.000091</td>\n",
       "    </tr>\n",
       "    <tr>\n",
       "      <th>3497991</th>\n",
       "      <td>2017-09-16</td>\n",
       "      <td>Yavapai County</td>\n",
       "      <td>white</td>\n",
       "      <td>male</td>\n",
       "      <td>True</td>\n",
       "      <td>True</td>\n",
       "      <td>Arizona</td>\n",
       "      <td>0.000091</td>\n",
       "    </tr>\n",
       "    <tr>\n",
       "      <th>3497992</th>\n",
       "      <td>2017-09-16</td>\n",
       "      <td>Yavapai County</td>\n",
       "      <td>white</td>\n",
       "      <td>male</td>\n",
       "      <td>True</td>\n",
       "      <td>True</td>\n",
       "      <td>Arizona</td>\n",
       "      <td>0.000091</td>\n",
       "    </tr>\n",
       "  </tbody>\n",
       "</table>\n",
       "<p>180444 rows × 8 columns</p>\n",
       "</div>"
      ],
      "text/plain": [
       "               date      county_name subject_race subject_sex  \\\n",
       "14       2009-07-21  Maricopa County        white      female   \n",
       "27       2009-12-28  Maricopa County     hispanic        male   \n",
       "85       2009-12-31  Maricopa County        white        male   \n",
       "89       2009-12-31  Maricopa County        white        male   \n",
       "104      2010-01-01  Maricopa County        white        male   \n",
       "...             ...              ...          ...         ...   \n",
       "3497988  2017-09-16   Yavapai County        white        male   \n",
       "3497989  2017-09-16   Yavapai County        white        male   \n",
       "3497990  2017-09-16   Yavapai County        white        male   \n",
       "3497991  2017-09-16   Yavapai County        white        male   \n",
       "3497992  2017-09-16   Yavapai County        white        male   \n",
       "\n",
       "         contraband_found  search_conducted    state  search_rate  \n",
       "14                  False              True  Arizona     0.000013  \n",
       "27                  False              True  Arizona     0.000013  \n",
       "85                  False              True  Arizona     0.000013  \n",
       "89                  False              True  Arizona     0.000013  \n",
       "104                 False              True  Arizona     0.000013  \n",
       "...                   ...               ...      ...          ...  \n",
       "3497988              True              True  Arizona     0.000091  \n",
       "3497989              True              True  Arizona     0.000091  \n",
       "3497990              True              True  Arizona     0.000091  \n",
       "3497991              True              True  Arizona     0.000091  \n",
       "3497992              True              True  Arizona     0.000091  \n",
       "\n",
       "[180444 rows x 8 columns]"
      ]
     },
     "execution_count": 29,
     "metadata": {},
     "output_type": "execute_result"
    }
   ],
   "source": [
    "# We print the results to see how they look like\n",
    "split_1[split_1[\"search_conducted\"] == True]"
   ]
  },
  {
   "cell_type": "code",
   "execution_count": 27,
   "metadata": {},
   "outputs": [],
   "source": [
    "# We make a new split to remove the irrelevant data\n",
    "split_1_1 = split_1.loc[(split_1[\"contraband_found\"] == True)]\n",
    "split_1_2 = split_1.loc[(split_1[\"contraband_found\"] == False)]"
   ]
  },
  {
   "cell_type": "code",
   "execution_count": 17,
   "metadata": {
    "scrolled": true
   },
   "outputs": [
    {
     "name": "stderr",
     "output_type": "stream",
     "text": [
      "<ipython-input-17-03d13ac2cf59>:7: SettingWithCopyWarning: \n",
      "A value is trying to be set on a copy of a slice from a DataFrame.\n",
      "Try using .loc[row_indexer,col_indexer] = value instead\n",
      "\n",
      "See the caveats in the documentation: https://pandas.pydata.org/pandas-docs/stable/user_guide/indexing.html#returning-a-view-versus-a-copy\n",
      "  split_1_1['hit_rate'] = split_1_1.apply(lambda x: set_val_hit_rate(x['county_name'], x['contraband_found']), axis=1)\n"
     ]
    }
   ],
   "source": [
    "# We calculate the hit rate on the first split\n",
    "def set_val_hit_rate(location, cf):\n",
    "    if cf == True:\n",
    "        return (1/len(split_1_1.loc[(split_1_1[\"county_name\"] == location) & (split_1_1[\"contraband_found\"] == True)]))\n",
    "    else:\n",
    "        return np.nan\n",
    "\n",
    "split_1_1['hit_rate'] = split_1_1.apply(lambda x: set_val_hit_rate(x['county_name'], x['contraband_found']), axis=1)"
   ]
  },
  {
   "cell_type": "code",
   "execution_count": 18,
   "metadata": {
    "scrolled": true
   },
   "outputs": [
    {
     "name": "stderr",
     "output_type": "stream",
     "text": [
      "<ipython-input-18-7aaf4af00ddd>:1: SettingWithCopyWarning: \n",
      "A value is trying to be set on a copy of a slice from a DataFrame.\n",
      "Try using .loc[row_indexer,col_indexer] = value instead\n",
      "\n",
      "See the caveats in the documentation: https://pandas.pydata.org/pandas-docs/stable/user_guide/indexing.html#returning-a-view-versus-a-copy\n",
      "  split_1_2[\"hit_rate\"] = np.nan\n",
      "<ipython-input-18-7aaf4af00ddd>:2: SettingWithCopyWarning: \n",
      "A value is trying to be set on a copy of a slice from a DataFrame.\n",
      "Try using .loc[row_indexer,col_indexer] = value instead\n",
      "\n",
      "See the caveats in the documentation: https://pandas.pydata.org/pandas-docs/stable/user_guide/indexing.html#returning-a-view-versus-a-copy\n",
      "  split_2[\"hit_rate\"] = np.nan\n"
     ]
    }
   ],
   "source": [
    "# Here, we fill the irrelevant values by np.nan\n",
    "split_1_2[\"hit_rate\"] = np.nan\n",
    "split_2[\"hit_rate\"] = np.nan"
   ]
  },
  {
   "cell_type": "code",
   "execution_count": 84,
   "metadata": {},
   "outputs": [],
   "source": [
    "# Here, we merge the dataframes\n",
    "s1 = pd.concat([split_1_1, split_1_2])\n",
    "s2 = pd.concat([s1, split_2])"
   ]
  },
  {
   "cell_type": "code",
   "execution_count": 99,
   "metadata": {},
   "outputs": [
    {
     "data": {
      "text/html": [
       "<div>\n",
       "<style scoped>\n",
       "    .dataframe tbody tr th:only-of-type {\n",
       "        vertical-align: middle;\n",
       "    }\n",
       "\n",
       "    .dataframe tbody tr th {\n",
       "        vertical-align: top;\n",
       "    }\n",
       "\n",
       "    .dataframe thead th {\n",
       "        text-align: right;\n",
       "    }\n",
       "</style>\n",
       "<table border=\"1\" class=\"dataframe\">\n",
       "  <thead>\n",
       "    <tr style=\"text-align: right;\">\n",
       "      <th></th>\n",
       "      <th>date</th>\n",
       "      <th>county_name</th>\n",
       "      <th>subject_race</th>\n",
       "      <th>subject_sex</th>\n",
       "      <th>contraband_found</th>\n",
       "      <th>search_conducted</th>\n",
       "      <th>state</th>\n",
       "      <th>search_rate</th>\n",
       "      <th>hit_rate</th>\n",
       "    </tr>\n",
       "  </thead>\n",
       "  <tbody>\n",
       "    <tr>\n",
       "      <th>724</th>\n",
       "      <td>2010-02-09</td>\n",
       "      <td>Maricopa County</td>\n",
       "      <td>white</td>\n",
       "      <td>male</td>\n",
       "      <td>True</td>\n",
       "      <td>True</td>\n",
       "      <td>Arizona</td>\n",
       "      <td>1.27473e-05</td>\n",
       "      <td>NaN</td>\n",
       "    </tr>\n",
       "    <tr>\n",
       "      <th>836</th>\n",
       "      <td>2010-02-15</td>\n",
       "      <td>Maricopa County</td>\n",
       "      <td>white</td>\n",
       "      <td>female</td>\n",
       "      <td>True</td>\n",
       "      <td>True</td>\n",
       "      <td>Arizona</td>\n",
       "      <td>1.27473e-05</td>\n",
       "      <td>NaN</td>\n",
       "    </tr>\n",
       "    <tr>\n",
       "      <th>1032</th>\n",
       "      <td>2010-02-25</td>\n",
       "      <td>Maricopa County</td>\n",
       "      <td>hispanic</td>\n",
       "      <td>male</td>\n",
       "      <td>True</td>\n",
       "      <td>True</td>\n",
       "      <td>Arizona</td>\n",
       "      <td>1.27473e-05</td>\n",
       "      <td>NaN</td>\n",
       "    </tr>\n",
       "    <tr>\n",
       "      <th>1158</th>\n",
       "      <td>2010-03-04</td>\n",
       "      <td>Maricopa County</td>\n",
       "      <td>hispanic</td>\n",
       "      <td>male</td>\n",
       "      <td>True</td>\n",
       "      <td>True</td>\n",
       "      <td>Arizona</td>\n",
       "      <td>1.27473e-05</td>\n",
       "      <td>NaN</td>\n",
       "    </tr>\n",
       "    <tr>\n",
       "      <th>1231</th>\n",
       "      <td>2010-03-09</td>\n",
       "      <td>Maricopa County</td>\n",
       "      <td>hispanic</td>\n",
       "      <td>male</td>\n",
       "      <td>True</td>\n",
       "      <td>True</td>\n",
       "      <td>Arizona</td>\n",
       "      <td>1.27473e-05</td>\n",
       "      <td>NaN</td>\n",
       "    </tr>\n",
       "  </tbody>\n",
       "</table>\n",
       "</div>"
      ],
      "text/plain": [
       "            date      county_name subject_race subject_sex contraband_found  \\\n",
       "724   2010-02-09  Maricopa County        white        male             True   \n",
       "836   2010-02-15  Maricopa County        white      female             True   \n",
       "1032  2010-02-25  Maricopa County     hispanic        male             True   \n",
       "1158  2010-03-04  Maricopa County     hispanic        male             True   \n",
       "1231  2010-03-09  Maricopa County     hispanic        male             True   \n",
       "\n",
       "      search_conducted    state  search_rate  hit_rate  \n",
       "724               True  Arizona  1.27473e-05       NaN  \n",
       "836               True  Arizona  1.27473e-05       NaN  \n",
       "1032              True  Arizona  1.27473e-05       NaN  \n",
       "1158              True  Arizona  1.27473e-05       NaN  \n",
       "1231              True  Arizona  1.27473e-05       NaN  "
      ]
     },
     "execution_count": 99,
     "metadata": {},
     "output_type": "execute_result"
    }
   ],
   "source": [
    "# We print the results\n",
    "s2.head(5)\n",
    "\n",
    "# As you can see, we have values for search_rate and hit_rate"
   ]
  },
  {
   "cell_type": "code",
   "execution_count": 95,
   "metadata": {},
   "outputs": [],
   "source": [
    "# To get the results, we need to clean the dataframe again and group the data by location and gender"
   ]
  },
  {
   "cell_type": "code",
   "execution_count": 96,
   "metadata": {},
   "outputs": [],
   "source": [
    "cleaned = s2.copy()"
   ]
  },
  {
   "cell_type": "code",
   "execution_count": 97,
   "metadata": {},
   "outputs": [],
   "source": [
    "# We set the right format to date\n",
    "cleaned[\"date\"] = pd.to_datetime(cleaned[\"date\"]).dt.date"
   ]
  },
  {
   "cell_type": "code",
   "execution_count": 100,
   "metadata": {},
   "outputs": [],
   "source": [
    "# Here, we select only data of 2017\n",
    "c2017 = cleaned[(cleaned['date']>datetime.date(2017,1,1)) & (cleaned['date']<datetime.date(2017,12,31))]"
   ]
  },
  {
   "cell_type": "code",
   "execution_count": 103,
   "metadata": {},
   "outputs": [
    {
     "name": "stderr",
     "output_type": "stream",
     "text": [
      "<ipython-input-103-4647e8219a42>:2: SettingWithCopyWarning: \n",
      "A value is trying to be set on a copy of a slice from a DataFrame.\n",
      "Try using .loc[row_indexer,col_indexer] = value instead\n",
      "\n",
      "See the caveats in the documentation: https://pandas.pydata.org/pandas-docs/stable/user_guide/indexing.html#returning-a-view-versus-a-copy\n",
      "  c2017[\"stops\"] = 1\n"
     ]
    }
   ],
   "source": [
    "# To compute the total of stops per county, we have to count them individually first before aggregating\n",
    "c2017[\"stops\"] = 1"
   ]
  },
  {
   "cell_type": "code",
   "execution_count": 105,
   "metadata": {},
   "outputs": [],
   "source": [
    "# We convert the search rate to numeric\n",
    "c2017.search_rate = pd.to_numeric(c2017.search_rate, downcast=\"float\")"
   ]
  },
  {
   "cell_type": "code",
   "execution_count": 106,
   "metadata": {},
   "outputs": [],
   "source": [
    "# We group the data by county_name and subject_sex\n",
    "c2017_1 = (c2017.groupby(['county_name', 'subject_sex']).sum().reset_index())"
   ]
  },
  {
   "cell_type": "code",
   "execution_count": 107,
   "metadata": {},
   "outputs": [
    {
     "data": {
      "text/html": [
       "<div>\n",
       "<style scoped>\n",
       "    .dataframe tbody tr th:only-of-type {\n",
       "        vertical-align: middle;\n",
       "    }\n",
       "\n",
       "    .dataframe tbody tr th {\n",
       "        vertical-align: top;\n",
       "    }\n",
       "\n",
       "    .dataframe thead th {\n",
       "        text-align: right;\n",
       "    }\n",
       "</style>\n",
       "<table border=\"1\" class=\"dataframe\">\n",
       "  <thead>\n",
       "    <tr style=\"text-align: right;\">\n",
       "      <th></th>\n",
       "      <th>county_name</th>\n",
       "      <th>subject_sex</th>\n",
       "      <th>search_conducted</th>\n",
       "      <th>search_rate</th>\n",
       "      <th>hit_rate</th>\n",
       "      <th>stops</th>\n",
       "    </tr>\n",
       "  </thead>\n",
       "  <tbody>\n",
       "    <tr>\n",
       "      <th>4</th>\n",
       "      <td>Coconino County</td>\n",
       "      <td>female</td>\n",
       "      <td>716</td>\n",
       "      <td>0.068609</td>\n",
       "      <td>0.0</td>\n",
       "      <td>10374</td>\n",
       "    </tr>\n",
       "    <tr>\n",
       "      <th>5</th>\n",
       "      <td>Coconino County</td>\n",
       "      <td>male</td>\n",
       "      <td>2127</td>\n",
       "      <td>0.203814</td>\n",
       "      <td>0.0</td>\n",
       "      <td>28563</td>\n",
       "    </tr>\n",
       "  </tbody>\n",
       "</table>\n",
       "</div>"
      ],
      "text/plain": [
       "       county_name subject_sex  search_conducted  search_rate  hit_rate  stops\n",
       "4  Coconino County      female               716     0.068609       0.0  10374\n",
       "5  Coconino County        male              2127     0.203814       0.0  28563"
      ]
     },
     "execution_count": 107,
     "metadata": {},
     "output_type": "execute_result"
    }
   ],
   "source": [
    "# We check if the results make sense\n",
    "c2017_1.loc[(c2017_1[\"county_name\"] == \"Coconino County\")]"
   ]
  },
  {
   "cell_type": "code",
   "execution_count": 109,
   "metadata": {},
   "outputs": [
    {
     "data": {
      "text/html": [
       "<div>\n",
       "<style scoped>\n",
       "    .dataframe tbody tr th:only-of-type {\n",
       "        vertical-align: middle;\n",
       "    }\n",
       "\n",
       "    .dataframe tbody tr th {\n",
       "        vertical-align: top;\n",
       "    }\n",
       "\n",
       "    .dataframe thead th {\n",
       "        text-align: right;\n",
       "    }\n",
       "</style>\n",
       "<table border=\"1\" class=\"dataframe\">\n",
       "  <thead>\n",
       "    <tr style=\"text-align: right;\">\n",
       "      <th></th>\n",
       "      <th>county_name</th>\n",
       "      <th>subject_sex</th>\n",
       "      <th>search_conducted</th>\n",
       "      <th>search_rate</th>\n",
       "      <th>hit_rate</th>\n",
       "      <th>stops</th>\n",
       "    </tr>\n",
       "  </thead>\n",
       "  <tbody>\n",
       "    <tr>\n",
       "      <th>0</th>\n",
       "      <td>Apache County</td>\n",
       "      <td>female</td>\n",
       "      <td>151</td>\n",
       "      <td>0.041484</td>\n",
       "      <td>0.0</td>\n",
       "      <td>4948</td>\n",
       "    </tr>\n",
       "    <tr>\n",
       "      <th>1</th>\n",
       "      <td>Apache County</td>\n",
       "      <td>male</td>\n",
       "      <td>728</td>\n",
       "      <td>0.200000</td>\n",
       "      <td>0.0</td>\n",
       "      <td>10734</td>\n",
       "    </tr>\n",
       "    <tr>\n",
       "      <th>2</th>\n",
       "      <td>Cochise County</td>\n",
       "      <td>female</td>\n",
       "      <td>586</td>\n",
       "      <td>0.080428</td>\n",
       "      <td>0.0</td>\n",
       "      <td>10434</td>\n",
       "    </tr>\n",
       "    <tr>\n",
       "      <th>3</th>\n",
       "      <td>Cochise County</td>\n",
       "      <td>male</td>\n",
       "      <td>1660</td>\n",
       "      <td>0.227834</td>\n",
       "      <td>0.0</td>\n",
       "      <td>23798</td>\n",
       "    </tr>\n",
       "    <tr>\n",
       "      <th>4</th>\n",
       "      <td>Coconino County</td>\n",
       "      <td>female</td>\n",
       "      <td>716</td>\n",
       "      <td>0.068609</td>\n",
       "      <td>0.0</td>\n",
       "      <td>10374</td>\n",
       "    </tr>\n",
       "  </tbody>\n",
       "</table>\n",
       "</div>"
      ],
      "text/plain": [
       "       county_name subject_sex  search_conducted  search_rate  hit_rate  stops\n",
       "0    Apache County      female               151     0.041484       0.0   4948\n",
       "1    Apache County        male               728     0.200000       0.0  10734\n",
       "2   Cochise County      female               586     0.080428       0.0  10434\n",
       "3   Cochise County        male              1660     0.227834       0.0  23798\n",
       "4  Coconino County      female               716     0.068609       0.0  10374"
      ]
     },
     "execution_count": 109,
     "metadata": {},
     "output_type": "execute_result"
    }
   ],
   "source": [
    "# We sort the dataframe by county name and gender to have a better overview of the dataset\n",
    "c2017_1.sort_values(by=['county_name', 'subject_sex'], ascending=True, inplace=True)\n",
    "c2017_1.head(5)"
   ]
  },
  {
   "cell_type": "code",
   "execution_count": 71,
   "metadata": {},
   "outputs": [],
   "source": [
    "# We prepare the values for the plot\n",
    "men = c2017_1.loc[(c2017_1[\"subject_sex\"] == \"male\")]\n",
    "women = c2017_1.loc[(c2017_1[\"subject_sex\"] == \"female\")]\n",
    "x = men[\"hit_rate\"]*100\n",
    "y = women[\"hit_rate\"]*100"
   ]
  },
  {
   "cell_type": "code",
   "execution_count": 78,
   "metadata": {
    "code_folding": []
   },
   "outputs": [
    {
     "data": {
      "text/plain": [
       "Text(0.5, 0, 'Men hit rate (%)')"
      ]
     },
     "execution_count": 78,
     "metadata": {},
     "output_type": "execute_result"
    },
    {
     "data": {
      "image/png": "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\n",
      "text/plain": [
       "<Figure size 720x504 with 1 Axes>"
      ]
     },
     "metadata": {
      "needs_background": "light"
     },
     "output_type": "display_data"
    }
   ],
   "source": [
    "# Plotting the figure\n",
    "\n",
    "# First, we create a figure with 4 subplots.\n",
    "fig, (\n",
    "    (ax_left)\n",
    ") = plt.subplots(1, figsize=(10, 7))\n",
    "\n",
    "ax_left.plot(np.linspace(0, 70, 101),\n",
    "             np.linspace(0, 70, 101),\n",
    "             \"--\",\n",
    "             color=\"black\",\n",
    "             alpha=0.5)\n",
    "ax_left.scatter(x=men[\"hit_rate\"] * 100,\n",
    "                y=women[\"hit_rate\"] * 100,\n",
    "                color=\"black\",\n",
    "                s=women['stops'] / 20,\n",
    "                alpha=0.8,\n",
    "                edgecolor=\"black\",\n",
    "                facecolor=\"white\")\n",
    "\n",
    "ax_left.set_ylabel(\"Women hit rate (%)\")\n",
    "ax_left.set_xlabel(\"Men hit rate (%)\")"
   ]
  },
