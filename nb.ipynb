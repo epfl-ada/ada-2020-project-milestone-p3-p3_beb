{
 "cells": [
  {
   "cell_type": "code",
   "execution_count": 1,
   "metadata": {},
   "outputs": [],
   "source": [
    "import pandas as pd\n",
    "import numpy as np"
   ]
  },
  {
   "cell_type": "code",
   "execution_count": 112,
   "metadata": {},
   "outputs": [
    {
     "data": {
      "text/html": [
       "<div>\n",
       "<style scoped>\n",
       "    .dataframe tbody tr th:only-of-type {\n",
       "        vertical-align: middle;\n",
       "    }\n",
       "\n",
       "    .dataframe tbody tr th {\n",
       "        vertical-align: top;\n",
       "    }\n",
       "\n",
       "    .dataframe thead th {\n",
       "        text-align: right;\n",
       "    }\n",
       "</style>\n",
       "<table border=\"1\" class=\"dataframe\">\n",
       "  <thead>\n",
       "    <tr style=\"text-align: right;\">\n",
       "      <th></th>\n",
       "      <th>date</th>\n",
       "      <th>time</th>\n",
       "      <th>location</th>\n",
       "      <th>subject_age</th>\n",
       "      <th>subject_race</th>\n",
       "      <th>subject_sex</th>\n",
       "      <th>officer_id_hash</th>\n",
       "      <th>officer_age</th>\n",
       "      <th>officer_sex</th>\n",
       "      <th>officer_years_of_service</th>\n",
       "      <th>type</th>\n",
       "      <th>violation</th>\n",
       "      <th>arrest_made</th>\n",
       "      <th>citation_issued</th>\n",
       "      <th>outcome</th>\n",
       "    </tr>\n",
       "  </thead>\n",
       "  <tbody>\n",
       "    <tr>\n",
       "      <th>0</th>\n",
       "      <td>2012-01-06</td>\n",
       "      <td>09:00:00</td>\n",
       "      <td>700 LINCOLN W</td>\n",
       "      <td>23.0</td>\n",
       "      <td>black</td>\n",
       "      <td>male</td>\n",
       "      <td>a6d791f976</td>\n",
       "      <td>NaN</td>\n",
       "      <td>male</td>\n",
       "      <td>17.0</td>\n",
       "      <td>vehicular</td>\n",
       "      <td>DRIVING ON SUSPENDED LICENSE</td>\n",
       "      <td>True</td>\n",
       "      <td>&lt;NA&gt;</td>\n",
       "      <td>arrest</td>\n",
       "    </tr>\n",
       "    <tr>\n",
       "      <th>1</th>\n",
       "      <td>2012-01-01</td>\n",
       "      <td>00:00:00</td>\n",
       "      <td>NaN</td>\n",
       "      <td>23.0</td>\n",
       "      <td>hispanic</td>\n",
       "      <td>male</td>\n",
       "      <td>81da9fab7e</td>\n",
       "      <td>NaN</td>\n",
       "      <td>male</td>\n",
       "      <td>2.0</td>\n",
       "      <td>vehicular</td>\n",
       "      <td>DRIVING/NEVER ISSUED LICENSE</td>\n",
       "      <td>True</td>\n",
       "      <td>&lt;NA&gt;</td>\n",
       "      <td>arrest</td>\n",
       "    </tr>\n",
       "    <tr>\n",
       "      <th>2</th>\n",
       "      <td>2012-01-01</td>\n",
       "      <td>01:00:00</td>\n",
       "      <td>0 NORTHWEST HWY &amp; HILLSIDE RD S</td>\n",
       "      <td>38.0</td>\n",
       "      <td>white</td>\n",
       "      <td>female</td>\n",
       "      <td>NaN</td>\n",
       "      <td>NaN</td>\n",
       "      <td>NaN</td>\n",
       "      <td>NaN</td>\n",
       "      <td>vehicular</td>\n",
       "      <td>DRIVING ON SUSPENDED LICENSE</td>\n",
       "      <td>True</td>\n",
       "      <td>&lt;NA&gt;</td>\n",
       "      <td>arrest</td>\n",
       "    </tr>\n",
       "    <tr>\n",
       "      <th>3</th>\n",
       "      <td>2012-01-01</td>\n",
       "      <td>01:00:00</td>\n",
       "      <td>108 LAMON AVE N</td>\n",
       "      <td>35.0</td>\n",
       "      <td>black</td>\n",
       "      <td>male</td>\n",
       "      <td>048359e7c8</td>\n",
       "      <td>34.0</td>\n",
       "      <td>male</td>\n",
       "      <td>8.0</td>\n",
       "      <td>vehicular</td>\n",
       "      <td>IVC - FAIL TO STOP/SIGNAL CROSSWALK</td>\n",
       "      <td>True</td>\n",
       "      <td>&lt;NA&gt;</td>\n",
       "      <td>arrest</td>\n",
       "    </tr>\n",
       "    <tr>\n",
       "      <th>4</th>\n",
       "      <td>2012-01-01</td>\n",
       "      <td>01:00:00</td>\n",
       "      <td>3451 177TH ST W</td>\n",
       "      <td>20.0</td>\n",
       "      <td>black</td>\n",
       "      <td>male</td>\n",
       "      <td>NaN</td>\n",
       "      <td>NaN</td>\n",
       "      <td>NaN</td>\n",
       "      <td>NaN</td>\n",
       "      <td>vehicular</td>\n",
       "      <td>IVC - DRIVING 15-20 MPH ABOVE SPEED LIMIT</td>\n",
       "      <td>True</td>\n",
       "      <td>&lt;NA&gt;</td>\n",
       "      <td>arrest</td>\n",
       "    </tr>\n",
       "    <tr>\n",
       "      <th>...</th>\n",
       "      <td>...</td>\n",
       "      <td>...</td>\n",
       "      <td>...</td>\n",
       "      <td>...</td>\n",
       "      <td>...</td>\n",
       "      <td>...</td>\n",
       "      <td>...</td>\n",
       "      <td>...</td>\n",
       "      <td>...</td>\n",
       "      <td>...</td>\n",
       "      <td>...</td>\n",
       "      <td>...</td>\n",
       "      <td>...</td>\n",
       "      <td>...</td>\n",
       "      <td>...</td>\n",
       "    </tr>\n",
       "    <tr>\n",
       "      <th>365919</th>\n",
       "      <td>2017-09-09</td>\n",
       "      <td>NaN</td>\n",
       "      <td>Walnut Av/E Wardlow Rd</td>\n",
       "      <td>26.0</td>\n",
       "      <td>black</td>\n",
       "      <td>female</td>\n",
       "      <td>ab285553a8</td>\n",
       "      <td>33.0</td>\n",
       "      <td>male</td>\n",
       "      <td>2.0</td>\n",
       "      <td>vehicular</td>\n",
       "      <td>UNREGISTERED VEHICLE</td>\n",
       "      <td>&lt;NA&gt;</td>\n",
       "      <td>True</td>\n",
       "      <td>citation</td>\n",
       "    </tr>\n",
       "    <tr>\n",
       "      <th>365920</th>\n",
       "      <td>2017-09-09</td>\n",
       "      <td>NaN</td>\n",
       "      <td>W Market St/Lbb</td>\n",
       "      <td>19.0</td>\n",
       "      <td>hispanic</td>\n",
       "      <td>male</td>\n",
       "      <td>24fef6072a</td>\n",
       "      <td>30.0</td>\n",
       "      <td>male</td>\n",
       "      <td>2.0</td>\n",
       "      <td>NaN</td>\n",
       "      <td>OUT OF CLASSIFICATION,NO M/C ENDORSEMENT; DRIV...</td>\n",
       "      <td>&lt;NA&gt;</td>\n",
       "      <td>True</td>\n",
       "      <td>citation</td>\n",
       "    </tr>\n",
       "    <tr>\n",
       "      <th>365921</th>\n",
       "      <td>2017-09-09</td>\n",
       "      <td>NaN</td>\n",
       "      <td>W Plymouth St/Lbb</td>\n",
       "      <td>16.0</td>\n",
       "      <td>hispanic</td>\n",
       "      <td>male</td>\n",
       "      <td>24fef6072a</td>\n",
       "      <td>30.0</td>\n",
       "      <td>male</td>\n",
       "      <td>2.0</td>\n",
       "      <td>vehicular</td>\n",
       "      <td>LOITER ON STREET DURING CERTAIN HOURS</td>\n",
       "      <td>&lt;NA&gt;</td>\n",
       "      <td>True</td>\n",
       "      <td>citation</td>\n",
       "    </tr>\n",
       "    <tr>\n",
       "      <th>365922</th>\n",
       "      <td>2017-09-09</td>\n",
       "      <td>NaN</td>\n",
       "      <td>W Shoreline Dr/S Pine Av</td>\n",
       "      <td>35.0</td>\n",
       "      <td>hispanic</td>\n",
       "      <td>male</td>\n",
       "      <td>505d3bc95d</td>\n",
       "      <td>50.0</td>\n",
       "      <td>male</td>\n",
       "      <td>23.0</td>\n",
       "      <td>vehicular</td>\n",
       "      <td>SPEED CONTESTS; UNREGISTERED VEHICLE; DISPLAY ...</td>\n",
       "      <td>&lt;NA&gt;</td>\n",
       "      <td>True</td>\n",
       "      <td>citation</td>\n",
       "    </tr>\n",
       "    <tr>\n",
       "      <th>365923</th>\n",
       "      <td>2017-09-09</td>\n",
       "      <td>NaN</td>\n",
       "      <td>W Willow St/Santa Fe Av</td>\n",
       "      <td>60.0</td>\n",
       "      <td>black</td>\n",
       "      <td>male</td>\n",
       "      <td>89c7c9dde7</td>\n",
       "      <td>34.0</td>\n",
       "      <td>male</td>\n",
       "      <td>8.0</td>\n",
       "      <td>vehicular</td>\n",
       "      <td>DISPLAY OF LICENSE PLATES-TWO PLATES; DRIVER, ...</td>\n",
       "      <td>&lt;NA&gt;</td>\n",
       "      <td>True</td>\n",
       "      <td>citation</td>\n",
       "    </tr>\n",
       "  </tbody>\n",
       "</table>\n",
       "<p>1213380 rows × 15 columns</p>\n",
       "</div>"
      ],
      "text/plain": [
       "              date      time                         location  subject_age  \\\n",
       "0       2012-01-06  09:00:00                    700 LINCOLN W         23.0   \n",
       "1       2012-01-01  00:00:00                              NaN         23.0   \n",
       "2       2012-01-01  01:00:00  0 NORTHWEST HWY & HILLSIDE RD S         38.0   \n",
       "3       2012-01-01  01:00:00                  108 LAMON AVE N         35.0   \n",
       "4       2012-01-01  01:00:00                  3451 177TH ST W         20.0   \n",
       "...            ...       ...                              ...          ...   \n",
       "365919  2017-09-09       NaN           Walnut Av/E Wardlow Rd         26.0   \n",
       "365920  2017-09-09       NaN                  W Market St/Lbb         19.0   \n",
       "365921  2017-09-09       NaN                W Plymouth St/Lbb         16.0   \n",
       "365922  2017-09-09       NaN         W Shoreline Dr/S Pine Av         35.0   \n",
       "365923  2017-09-09       NaN          W Willow St/Santa Fe Av         60.0   \n",
       "\n",
       "       subject_race subject_sex officer_id_hash  officer_age officer_sex  \\\n",
       "0             black        male      a6d791f976          NaN        male   \n",
       "1          hispanic        male      81da9fab7e          NaN        male   \n",
       "2             white      female             NaN          NaN         NaN   \n",
       "3             black        male      048359e7c8         34.0        male   \n",
       "4             black        male             NaN          NaN         NaN   \n",
       "...             ...         ...             ...          ...         ...   \n",
       "365919        black      female      ab285553a8         33.0        male   \n",
       "365920     hispanic        male      24fef6072a         30.0        male   \n",
       "365921     hispanic        male      24fef6072a         30.0        male   \n",
       "365922     hispanic        male      505d3bc95d         50.0        male   \n",
       "365923        black        male      89c7c9dde7         34.0        male   \n",
       "\n",
       "        officer_years_of_service       type  \\\n",
       "0                           17.0  vehicular   \n",
       "1                            2.0  vehicular   \n",
       "2                            NaN  vehicular   \n",
       "3                            8.0  vehicular   \n",
       "4                            NaN  vehicular   \n",
       "...                          ...        ...   \n",
       "365919                       2.0  vehicular   \n",
       "365920                       2.0        NaN   \n",
       "365921                       2.0  vehicular   \n",
       "365922                      23.0  vehicular   \n",
       "365923                       8.0  vehicular   \n",
       "\n",
       "                                                violation  arrest_made  \\\n",
       "0                            DRIVING ON SUSPENDED LICENSE         True   \n",
       "1                            DRIVING/NEVER ISSUED LICENSE         True   \n",
       "2                            DRIVING ON SUSPENDED LICENSE         True   \n",
       "3                     IVC - FAIL TO STOP/SIGNAL CROSSWALK         True   \n",
       "4               IVC - DRIVING 15-20 MPH ABOVE SPEED LIMIT         True   \n",
       "...                                                   ...          ...   \n",
       "365919                               UNREGISTERED VEHICLE         <NA>   \n",
       "365920  OUT OF CLASSIFICATION,NO M/C ENDORSEMENT; DRIV...         <NA>   \n",
       "365921              LOITER ON STREET DURING CERTAIN HOURS         <NA>   \n",
       "365922  SPEED CONTESTS; UNREGISTERED VEHICLE; DISPLAY ...         <NA>   \n",
       "365923  DISPLAY OF LICENSE PLATES-TWO PLATES; DRIVER, ...         <NA>   \n",
       "\n",
       "        citation_issued   outcome  \n",
       "0                  <NA>    arrest  \n",
       "1                  <NA>    arrest  \n",
       "2                  <NA>    arrest  \n",
       "3                  <NA>    arrest  \n",
       "4                  <NA>    arrest  \n",
       "...                 ...       ...  \n",
       "365919             True  citation  \n",
       "365920             True  citation  \n",
       "365921             True  citation  \n",
       "365922             True  citation  \n",
       "365923             True  citation  \n",
       "\n",
       "[1213380 rows x 15 columns]"
      ]
     },
     "execution_count": 112,
     "metadata": {},
     "output_type": "execute_result"
    }
   ],
   "source": [
    "DATA_FOLDER = 'data/'\n",
    "dtypes = {'date': 'str', 'time': 'str', 'location': 'str', 'subject_age': 'float32', 'subject_race': 'category', 'subject_sex': 'category', 'officer_id_hash': 'str', 'officer_age': 'float32', 'officer_sex': 'category', 'officer_years_of_service': 'float32', 'type': 'category', 'violation': 'category', 'arrest_made': 'boolean', 'citation_issued': 'boolean', 'outcome': 'category'}\n",
    "cols = ['date', 'time', 'location', 'subject_age', 'subject_race', 'subject_sex', 'officer_id_hash', 'officer_age', 'officer_sex', 'officer_years_of_service', 'type', 'violation', 'arrest_made', 'citation_issued', 'outcome']\n",
    "\n",
    "il_ch = pd.read_csv(DATA_FOLDER + 'yg821jf8611_il_chicago_2020_04_01.csv.zip', usecols=cols, dtype=dtypes)\n",
    "fl_sw = pd.read_csv(DATA_FOLDER + 'yg821jf8611_fl_statewide_2020_04_01.csv.zip', usecols=cols, dtype=dtypes, parse_dates=['date'], nrows=1000)\n",
    "ca_lb = pd.read_csv(DATA_FOLDER + 'yg821jf8611_ca_long_beach_2020_04_01.csv.zip', usecols=[col for col in cols if col not in ['time', 'arrest_made']], dtype=dtypes)\n",
    "all_data = pd.concat([il_ch, fl_sw, ca_lb], axis=0)\n",
    "all_data.loc[(all_data.officer_years_of_service > 70) | (all_data.officer_years_of_service < 0), 'officer_years_of_service'] = np.NaN\n",
    "all_data.loc[(all_data.subject_age > 100) | (all_data.subject_age < 0), 'subject_age'] = np.NaN\n",
    "all_data"
   ]
  },
  {
   "cell_type": "code",
   "execution_count": 113,
   "metadata": {},
   "outputs": [
    {
     "data": {
      "text/plain": [
       "array([[<AxesSubplot:title={'center':'subject_age'}>]], dtype=object)"
      ]
     },
     "execution_count": 113,
     "metadata": {},
     "output_type": "execute_result"
    },
    {
     "data": {
      "image/png": "[encoded data removed]",
      "text/plain": [
       "<Figure size 432x288 with 1 Axes>"
      ]
     },
     "metadata": {
      "needs_background": "light"
     },
     "output_type": "display_data"
    },
    {
     "data": {
      "image/png": "[encoded data removed]",
      "text/plain": [
       "<Figure size 432x288 with 1 Axes>"
      ]
     },
     "metadata": {
      "needs_background": "light"
     },
     "output_type": "display_data"
    }
   ],
   "source": [
    "all_data.hist(column='officer_years_of_service', bins=35, range=[0, 70])\n",
    "all_data.hist(column='subject_age')"
   ]
  },
  {
   "cell_type": "code",
   "execution_count": 78,
   "metadata": {},
   "outputs": [
    {
     "data": {
      "text/plain": [
       "<AxesSubplot:>"
      ]
     },
     "execution_count": 78,
     "metadata": {},
     "output_type": "execute_result"
    },
    {
     "data": {
      "image/png": "[encoded data removed]",
      "text/plain": [
       "<Figure size 432x288 with 1 Axes>"
      ]
     },
     "metadata": {
      "needs_background": "light"
     },
     "output_type": "display_data"
    }
   ],
   "source": [
    "all_data['subject_sex'].value_counts().plot(kind='bar')"
   ]
  },
  {
   "cell_type": "code",
   "execution_count": 79,
   "metadata": {},
   "outputs": [
    {
     "data": {
      "text/plain": [
       "<AxesSubplot:>"
      ]
     },
     "execution_count": 79,
     "metadata": {},
     "output_type": "execute_result"
    },
    {
     "data": {
      "image/png": "[encoded data removed]",
      "text/plain": [
       "<Figure size 432x288 with 1 Axes>"
      ]
     },
     "metadata": {
      "needs_background": "light"
     },
     "output_type": "display_data"
    }
   ],
   "source": [
    "all_data['officer_sex'].value_counts().plot(kind='bar')"
   ]
  },
  {
   "cell_type": "code",
   "execution_count": 114,
   "metadata": {},
   "outputs": [
    {
     "name": "stdout",
     "output_type": "stream",
     "text": [
      "Optimization terminated successfully.\n",
      "         Current function value: 0.514474\n",
      "         Iterations 5\n",
      "                           Logit Regression Results                           \n",
      "==============================================================================\n",
      "Dep. Variable:               arrested   No. Observations:                16083\n",
      "Model:                          Logit   Df Residuals:                    16081\n",
      "Method:                           MLE   Df Model:                            1\n",
      "Date:                Mon, 14 Dec 2020   Pseudo R-squ.:                0.003854\n",
      "Time:                        20:54:35   Log-Likelihood:                -8274.3\n",
      "converged:                       True   LL-Null:                       -8306.3\n",
      "Covariance Type:            nonrobust   LLR p-value:                 1.227e-15\n",
      "==============================================================================\n",
      "                 coef    std err          z      P>|z|      [0.025      0.975]\n",
      "------------------------------------------------------------------------------\n",
      "Intercept     -1.5448      0.036    -43.042      0.000      -1.615      -1.474\n",
      "male           0.3359      0.043      7.886      0.000       0.252       0.419\n",
      "==============================================================================\n"
     ]
    }
   ],
   "source": [
    "# import statsmodels.api as sm\n",
    "# import statsmodels.formula.api as smf\n",
    "\n",
    "# speed = all_data[all_data.violation.str.contains(\"IVC - DRIVING 15-20 MPH ABOVE SPEED LIMIT\", na=False)].dropna(subset=['subject_sex'])\n",
    "# speed['arrested'] = (speed.outcome == 'arrest').apply(int)\n",
    "# speed['male'] = (speed.subject_sex == 'male').apply(int)\n",
    "# speed[speed['outcome'] == 'citation']\n",
    "# model   = smf.logit(formula='arrested ~ male', data=speed)\n",
    "# log_reg = model.fit()\n",
    "# print(log_reg.summary())"
   ]
  }
 ],
 "metadata": {
  "kernelspec": {
   "display_name": "Python 3",
   "language": "python",
   "name": "python3"
  },
  "language_info": {
   "codemirror_mode": {
    "name": "ipython",
    "version": 3
   },
   "file_extension": ".py",
   "mimetype": "text/x-python",
   "name": "python",
   "nbconvert_exporter": "python",
   "pygments_lexer": "ipython3",
   "version": "3.8.6"
  }
 },
 "nbformat": 4,
 "nbformat_minor": 4
}
